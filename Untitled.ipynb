{
 "cells": [
  {
   "cell_type": "code",
   "execution_count": 19,
   "id": "5d593d91",
   "metadata": {},
   "outputs": [],
   "source": [
    "import mlwpy\n",
    "import numpy as np\n",
    "import matplotlib.pyplot as plt\n",
    "%matplotlib inline"
   ]
  },
  {
   "cell_type": "code",
   "execution_count": 20,
   "id": "f3c47454",
   "metadata": {},
   "outputs": [
    {
     "data": {
      "text/plain": [
       "5"
      ]
     },
     "execution_count": 20,
     "metadata": {},
     "output_type": "execute_result"
    }
   ],
   "source": [
    "np.random.randint(1, 7)"
   ]
  },
  {
   "cell_type": "code",
   "execution_count": 58,
   "id": "18c2429a",
   "metadata": {},
   "outputs": [],
   "source": [
    "few_rolls = np.random.randint(1, 7, size=10)\n",
    "many_rolls = np.random.randint(1, 7, size=100)"
   ]
  },
  {
   "cell_type": "code",
   "execution_count": 60,
   "id": "9fb0de44",
   "metadata": {},
   "outputs": [
    {
     "data": {
      "text/plain": [
       "<BarContainer object of 6 artists>"
      ]
     },
     "execution_count": 60,
     "metadata": {},
     "output_type": "execute_result"
    },
    {
     "data": {
      "image/png": "[encoded data removed]",
      "text/plain": [
       "<Figure size 576x216 with 2 Axes>"
      ]
     },
     "metadata": {
      "needs_background": "light"
     },
     "output_type": "display_data"
    }
   ],
   "source": [
    "few_counts = np.histogram(few_rolls, bins=np.arange(.5, 7.5))[0]\n",
    "many_counts = np.histogram(many_rolls, bins=np.arange(.5, 7.5))[0]\n",
    "\n",
    "fig, (ax1, ax2) = plt.subplots(1, 2, figsize=(8,3))\n",
    "ax1.bar(np.arange(1, 7), few_counts)\n",
    "ax2.bar(np.arange(1, 7), many_counts)"
   ]
  },
  {
   "cell_type": "code",
   "execution_count": null,
   "id": "a8ce06c6",
   "metadata": {},
   "outputs": [],
   "source": []
  },
  {
   "cell_type": "code",
   "execution_count": null,
   "id": "424eb7ce",
   "metadata": {},
   "outputs": [],
   "source": []
  },
  {
   "cell_type": "code",
   "execution_count": null,
   "id": "c0a79c5d",
   "metadata": {},
   "outputs": [],
   "source": []
  },
  {
   "cell_type": "code",
   "execution_count": null,
   "id": "11c9fbfe",
   "metadata": {},
   "outputs": [],
   "source": []
  }
 ],
 "metadata": {
  "kernelspec": {
   "display_name": "env",
   "language": "python",
   "name": "env"
  },
  "language_info": {
   "codemirror_mode": {
    "name": "ipython",
    "version": 3
   },
   "file_extension": ".py",
   "mimetype": "text/x-python",
   "name": "python",
   "nbconvert_exporter": "python",
   "pygments_lexer": "ipython3",
   "version": "3.7.3"
  }
 },
 "nbformat": 4,
 "nbformat_minor": 5
}
